{
  "nbformat": 4,
  "nbformat_minor": 0,
  "metadata": {
    "colab": {
      "provenance": []
    },
    "kernelspec": {
      "name": "python3",
      "display_name": "Python 3"
    },
    "language_info": {
      "name": "python"
    }
  },
  "cells": [
    {
      "cell_type": "markdown",
      "source": [
        "#data types and Structures\n"
      ],
      "metadata": {
        "id": "CDWEJeX5Sdvn"
      }
    },
    {
      "cell_type": "markdown",
      "source": [
        "1. What are data structures, and why are they important?\n",
        " - data structures are something which store data such that they can be easily accessed and manipulated effiecently.\n",
        "\n",
        " They are important to store data based on our need and access the stored data easily.\n",
        "\n",
        "2. Explain the difference between mutable and immutable data types with examples?\n",
        " - mutbale datat tyoes are those whose value can be changed after they are created. for ex. l=[1,2,3,4] now i have created a list l and now i can change elements like l[0]=5\n",
        "\n",
        "  immutable data types are those whose value cannot be changed after they are created. for ex. t=(1,2,3,4) i have created a tuple t and if i try to change its elements or delete any element then it will give an eroor.\n",
        "  t[0]=5 it will generate an error that trying to change an immutable data type\n",
        "\n",
        "3. What are the main differences between lists and tuples in Python?\n",
        " - the main difference between lists and tuples is that list is mutable and tuples are immutbale.\n",
        "\n",
        "4. Describe how dictionaries store data?\n",
        " - basically dictionares stores data in key value pair. for ex . d-{\"name\":\"chandan , \"age\"=19 , \"college\":\"UPES\"}\n",
        "   and values can be accessed by using keys . for ex. d[\"name\"] this will give the name value\n",
        "\n",
        "5. Why might you use a set instead of a list in Python?\n",
        " - I will use set instead of a list when i want to store unique elements . which means i do not want to store any copy of an element and if i try to store duplicate element in set it will automatically store duplicate elements once only.\n",
        "\n",
        "6. What is a string in Python, and how is it different from a list?\n",
        " - string is collection of sequence of characters. string is diiferent from list as string is immutable and list is mutable. and other difference between string and list is that string stores only text and does not not store hetrogeneous data , list can store hetrogeneous data.\n",
        "\n",
        "7.  How do tuples ensure data integrity in Python?\n",
        " - tuples ensures data integrity as tuples are immutable and cannot be changed once they are created . This immutabiltiy makes tuple a reliebale choice for stroing and sharing data as data data does not change in its lifecycle\n",
        "\n",
        " 8. What is a hash table, and how does it relate to dictionaries in Python?\n",
        "  - A hash table is a data structure that maps keys to values using a hash function.\n",
        "  dictionaries are implmented as hash tables.They store key-value pairs. key is hashed to determine where the value is stored in memory.\n",
        "\n",
        "9. Can lists contain different data types in Python?\n",
        " - yes list can contian different data types beacuse list can contain hetrogeneous data.\n",
        "\n",
        "10. Explain why strings are immutable in Python?\n",
        " - string are immutbable . if we try to change string then a new string object is created rather than altering the original string. string is immutbale beacuse it is intentionally created by developers.\n",
        "\n",
        " 11. What advantages do dictionaries offer over lists for certain tasks?\n",
        " - if we try access an element in list it may take time of O(n) while dictionaries takes only time of O(1)\n",
        "   meaningfull data accces\n",
        "   uniqness of keys\n",
        "   flexibility in keyS-values\n",
        "   efficient updates\n",
        "\n",
        "12. Describe a scenario where using a tuple would be preferable over a list?\n",
        " -  suppose we want to store employee id of customers then we will use tuple bacuse once created it cannot be changed , in list it will become if we change a emp id then 2 employees may have same empid then it will be an issue. In this case we will prefer tuple\n",
        "\n",
        "13. How do sets handle duplicate values in Python?\n",
        " - sets stores duplicate values only once , even if we enter duplicate values in set it will automatically store the duplicate value once only.\n",
        "\n",
        "14.  How does the “in” keyword work differently for lists and dictionaries?\n",
        " - \"in\" keyowrd iis used to checks for membership, but it behaviours differs depeneding on whether it is used for list or dictionary\n",
        "  \n",
        "  \"in\" keyword in list checks for value\n",
        "  \"in\" keyword\" in dictionary checks for key not for value.\n",
        "\n",
        "15. Can you modify the elements of a tuple? Explain why or why not?\n",
        " - no we cannot modify elements of a tuple because it is immutable , which means it's value cannot be changed once it is created.\n",
        "\n",
        "16.  What is a nested dictionary, and give an example of its use case?\n",
        " - nested dictionary means a dictionary inside dictionary, suppose i want to store the marks of the students of english,math,hindi . ex-\n",
        " {\"chandan\":{\"hindi\":89,\"english\":80,\"math\"=87},\"rahul\":{\"hindi\":90,\"english\":84,\"math\"=87}\n",
        "\n",
        "17. Describe the time complexity of accessing elements in a dictionary?\n",
        " -  time complexity of asccessing an element by key  in dictinary is O(1) beacuse it uses hash table to map keys to values\n",
        "  worst time complexity can be O(n) because collision may occur\n",
        "\n",
        "18. In what situations are lists preferred over dictionaries?\n",
        " - when we need to perform indexing or slicing\n",
        "   when we need to iterate over all the elements\n",
        "   when we need to perform sorting,appending,remove elements\n",
        "\n",
        "\n"
      ],
      "metadata": {
        "id": "a7iruU7XSp0c"
      }
    },
    {
      "cell_type": "markdown",
      "source": [
        "17. Describe the time complexity of accessing elements in a dictionary?\n",
        " -  time complexity of asccessing an element by key  in dictinary is O(1) beacuse it uses hash table to map keys to values\n",
        "  worst time complexity can be O(n) because collision may occur\n",
        "\n",
        "18. In what situations are lists preferred over dictionaries?\n",
        " - when we need to perform indexing or slicing\n",
        "   when we need to iterate over all the elements\n",
        "   when we need to perform sorting,appending,remove elements\n"
      ],
      "metadata": {
        "id": "h0HgD1zgyU13"
      }
    },
    {
      "cell_type": "markdown",
      "source": [
        "\n",
        "19. Why are dictionaries considered unordered, and how does that affect data retrieval?\n",
        " - They were considered unordered beacuse on hash table implementation and optimized for fast lookups.\n",
        "\n",
        "  Unordered behavior meant that if you wanted to retrieve items in a specific order (e.g., by the order in which they were added), this would not be possible by simply iterating over the dictionary.\n",
        "\n",
        "20. Explain the difference between a list and a dictionary in terms of data retrieval.\n",
        " - In list the data is retrived by indexing and in dictionary the is retrived by using the key. for ex l=[1,2,3,4] l[0] it will give the value present at oth index , d={\"name\":\"chandan\" , \"age\":19} d[\"name\"] this will give the value of name"
      ],
      "metadata": {
        "id": "oW7j6ujvyP4f"
      }
    },
    {
      "cell_type": "code",
      "execution_count": null,
      "metadata": {
        "id": "03BE-wDySafg"
      },
      "outputs": [],
      "source": [
        "# answer 1\n",
        "name=\"Chandan kumar\"\n",
        "print(name)"
      ]
    },
    {
      "cell_type": "code",
      "source": [
        "#answer 2\n",
        "str1=\"Hello World\"\n",
        "print(len(str1))"
      ],
      "metadata": {
        "colab": {
          "base_uri": "https://localhost:8080/"
        },
        "id": "ewYB0SHwynyq",
        "outputId": "a3c3480c-197b-4a24-d9f5-6d3d4f2ae97d"
      },
      "execution_count": 1,
      "outputs": [
        {
          "output_type": "stream",
          "name": "stdout",
          "text": [
            "11\n"
          ]
        }
      ]
    },
    {
      "cell_type": "code",
      "source": [
        "#answer 3\n",
        "a=\"Python Programming\"\n",
        "a[:3]"
      ],
      "metadata": {
        "colab": {
          "base_uri": "https://localhost:8080/",
          "height": 36
        },
        "id": "hAlzzUvsyySi",
        "outputId": "68e81d21-bb41-4d87-b236-005bd2916d19"
      },
      "execution_count": 3,
      "outputs": [
        {
          "output_type": "execute_result",
          "data": {
            "text/plain": [
              "'Pyt'"
            ],
            "application/vnd.google.colaboratory.intrinsic+json": {
              "type": "string"
            }
          },
          "metadata": {},
          "execution_count": 3
        }
      ]
    },
    {
      "cell_type": "code",
      "source": [
        "#answer 4\n",
        "str2=\"hello\"\n",
        "str2.upper()\n"
      ],
      "metadata": {
        "colab": {
          "base_uri": "https://localhost:8080/",
          "height": 36
        },
        "id": "nf7Zfol1zAiz",
        "outputId": "0c6cb154-2cdc-4f4b-e27c-96dfd7f4223e"
      },
      "execution_count": 4,
      "outputs": [
        {
          "output_type": "execute_result",
          "data": {
            "text/plain": [
              "'HELLO'"
            ],
            "application/vnd.google.colaboratory.intrinsic+json": {
              "type": "string"
            }
          },
          "metadata": {},
          "execution_count": 4
        }
      ]
    },
    {
      "cell_type": "code",
      "source": [
        "#answer 5\n",
        "str3=\"I Like apple\"\n",
        "str3.replace(\"apple\",\"orange\")"
      ],
      "metadata": {
        "colab": {
          "base_uri": "https://localhost:8080/",
          "height": 36
        },
        "id": "Lxd46SdWzP2c",
        "outputId": "9a7aa652-ae3c-4852-9dab-ff111e465643"
      },
      "execution_count": 5,
      "outputs": [
        {
          "output_type": "execute_result",
          "data": {
            "text/plain": [
              "'I Like orange'"
            ],
            "application/vnd.google.colaboratory.intrinsic+json": {
              "type": "string"
            }
          },
          "metadata": {},
          "execution_count": 5
        }
      ]
    },
    {
      "cell_type": "code",
      "source": [
        "#answer 6\n",
        "l=list(range(1,6))\n",
        "print(l)"
      ],
      "metadata": {
        "colab": {
          "base_uri": "https://localhost:8080/"
        },
        "id": "f-oWKdr23Bzf",
        "outputId": "3209033e-09da-440a-9609-f4d14decdc70"
      },
      "execution_count": 6,
      "outputs": [
        {
          "output_type": "stream",
          "name": "stdout",
          "text": [
            "[1, 2, 3, 4, 5]\n"
          ]
        }
      ]
    },
    {
      "cell_type": "code",
      "source": [
        "#answer 7\n",
        "l1=[1,2,3,4]\n",
        "l1.append(10)\n"
      ],
      "metadata": {
        "id": "g-CRfwzw3Nts"
      },
      "execution_count": 7,
      "outputs": []
    },
    {
      "cell_type": "code",
      "source": [
        "#answer 8\n",
        "l=list(range(1,6))\n",
        "l.remove(3)\n",
        "print(l)"
      ],
      "metadata": {
        "colab": {
          "base_uri": "https://localhost:8080/"
        },
        "id": "WRy-iBVx3Zd2",
        "outputId": "949f2c41-01c8-44ae-c06c-2ba1d49b4248"
      },
      "execution_count": 8,
      "outputs": [
        {
          "output_type": "stream",
          "name": "stdout",
          "text": [
            "[1, 2, 4, 5]\n"
          ]
        }
      ]
    },
    {
      "cell_type": "code",
      "source": [
        "#answer 9\n",
        "l=[\"a\",\"b\",\"c\",\"d\"]\n",
        "l[1]"
      ],
      "metadata": {
        "colab": {
          "base_uri": "https://localhost:8080/",
          "height": 36
        },
        "id": "h4JPscHb3rYJ",
        "outputId": "fb501ac5-9698-4a4a-bebf-c207343ef3e1"
      },
      "execution_count": 9,
      "outputs": [
        {
          "output_type": "execute_result",
          "data": {
            "text/plain": [
              "'b'"
            ],
            "application/vnd.google.colaboratory.intrinsic+json": {
              "type": "string"
            }
          },
          "metadata": {},
          "execution_count": 9
        }
      ]
    },
    {
      "cell_type": "code",
      "source": [
        "#naswer 10\n",
        "l=[10,20,30,40,50]\n",
        "l[::-1]"
      ],
      "metadata": {
        "colab": {
          "base_uri": "https://localhost:8080/"
        },
        "id": "Be_rjMjY302w",
        "outputId": "1fcdb833-1e43-4aca-fda8-78fabeb832cc"
      },
      "execution_count": 10,
      "outputs": [
        {
          "output_type": "execute_result",
          "data": {
            "text/plain": [
              "[50, 40, 30, 20, 10]"
            ]
          },
          "metadata": {},
          "execution_count": 10
        }
      ]
    },
    {
      "cell_type": "code",
      "source": [
        "#answer 11\n",
        "t=(10,20,30)\n",
        "print(t)"
      ],
      "metadata": {
        "colab": {
          "base_uri": "https://localhost:8080/"
        },
        "id": "ut_izC1l37aI",
        "outputId": "5d643bde-64ec-448b-dbe8-83aefba3157f"
      },
      "execution_count": 11,
      "outputs": [
        {
          "output_type": "stream",
          "name": "stdout",
          "text": [
            "(10, 20, 30)\n"
          ]
        }
      ]
    },
    {
      "cell_type": "code",
      "source": [
        "#naswer 12\n",
        "t1=('apple', 'banana', 'cherry')\n",
        "t1[0]"
      ],
      "metadata": {
        "colab": {
          "base_uri": "https://localhost:8080/",
          "height": 36
        },
        "id": "dBZ5xT9p4CtO",
        "outputId": "5dcba2b0-11e4-4463-8843-882ac21ed74a"
      },
      "execution_count": 12,
      "outputs": [
        {
          "output_type": "execute_result",
          "data": {
            "text/plain": [
              "'apple'"
            ],
            "application/vnd.google.colaboratory.intrinsic+json": {
              "type": "string"
            }
          },
          "metadata": {},
          "execution_count": 12
        }
      ]
    },
    {
      "cell_type": "code",
      "source": [
        "#answer 13\n",
        "t=(1,2,3,2,4,2)\n",
        "t.count(2)"
      ],
      "metadata": {
        "colab": {
          "base_uri": "https://localhost:8080/"
        },
        "id": "0inEJt-x4Lzb",
        "outputId": "4cd33f7a-a356-477f-b929-3269ff1e5f38"
      },
      "execution_count": 13,
      "outputs": [
        {
          "output_type": "execute_result",
          "data": {
            "text/plain": [
              "3"
            ]
          },
          "metadata": {},
          "execution_count": 13
        }
      ]
    },
    {
      "cell_type": "code",
      "source": [
        "#answer 14\n",
        "t=('dog','cat','rabit')\n",
        "for i in t:\n",
        "  if i==\"cat\":\n",
        "    print(t.index(i))"
      ],
      "metadata": {
        "colab": {
          "base_uri": "https://localhost:8080/"
        },
        "id": "6O_A4TOH4SQN",
        "outputId": "3b633369-337b-4a8b-b7c0-815323d02910"
      },
      "execution_count": 15,
      "outputs": [
        {
          "output_type": "stream",
          "name": "stdout",
          "text": [
            "1\n"
          ]
        }
      ]
    },
    {
      "cell_type": "code",
      "source": [
        "#answer 15\n",
        "t=('apple','orange','banana')\n",
        "'banana' in t"
      ],
      "metadata": {
        "colab": {
          "base_uri": "https://localhost:8080/"
        },
        "id": "YxH3ihne4lbx",
        "outputId": "26efb86d-0088-4578-9d3f-9b5182c926a6"
      },
      "execution_count": 16,
      "outputs": [
        {
          "output_type": "execute_result",
          "data": {
            "text/plain": [
              "True"
            ]
          },
          "metadata": {},
          "execution_count": 16
        }
      ]
    },
    {
      "cell_type": "code",
      "source": [
        "#answer 16\n",
        "s={1,2,3,4,5}\n",
        "print(s)"
      ],
      "metadata": {
        "colab": {
          "base_uri": "https://localhost:8080/"
        },
        "id": "RSqhIV3w478R",
        "outputId": "ca45d259-59d9-436c-9de2-c95dd0f23f15"
      },
      "execution_count": 17,
      "outputs": [
        {
          "output_type": "stream",
          "name": "stdout",
          "text": [
            "{1, 2, 3, 4, 5}\n"
          ]
        }
      ]
    },
    {
      "cell_type": "code",
      "source": [
        "#answer 17\n",
        "s={1,2,3,4}\n",
        "s.add(6)"
      ],
      "metadata": {
        "id": "YhiAZiIF5Az2"
      },
      "execution_count": 18,
      "outputs": []
    },
    {
      "cell_type": "code",
      "source": [
        "#answer 18\n",
        "t=(10,20,30)\n",
        "print(t)"
      ],
      "metadata": {
        "colab": {
          "base_uri": "https://localhost:8080/"
        },
        "id": "oopdh_7D5Hmy",
        "outputId": "2dc71250-78e3-4ad5-d367-2755b9d770d9"
      },
      "execution_count": 20,
      "outputs": [
        {
          "output_type": "stream",
          "name": "stdout",
          "text": [
            "(10, 20, 30)\n"
          ]
        }
      ]
    },
    {
      "cell_type": "code",
      "source": [
        "#answer 19\n",
        "t=('apple','banana','cherry')\n",
        "t[0]"
      ],
      "metadata": {
        "colab": {
          "base_uri": "https://localhost:8080/",
          "height": 36
        },
        "id": "0BNz6Lqf5I_T",
        "outputId": "4547bff3-cbfe-4256-dbea-d4255a7aec03"
      },
      "execution_count": 21,
      "outputs": [
        {
          "output_type": "execute_result",
          "data": {
            "text/plain": [
              "'apple'"
            ],
            "application/vnd.google.colaboratory.intrinsic+json": {
              "type": "string"
            }
          },
          "metadata": {},
          "execution_count": 21
        }
      ]
    },
    {
      "cell_type": "code",
      "source": [
        "#answer 20\n",
        "t=(1,2,3,2,4,2)\n",
        "t.count(2)"
      ],
      "metadata": {
        "colab": {
          "base_uri": "https://localhost:8080/"
        },
        "id": "2J-dm39p5b94",
        "outputId": "6bdeb844-165b-4e34-e1e7-3bd30fa37e98"
      },
      "execution_count": 22,
      "outputs": [
        {
          "output_type": "execute_result",
          "data": {
            "text/plain": [
              "3"
            ]
          },
          "metadata": {},
          "execution_count": 22
        }
      ]
    },
    {
      "cell_type": "code",
      "source": [
        "#answer 21\n",
        "t=('dog','cat','rabit')\n",
        "for i in t:\n",
        "  if i=='cat':\n",
        "    print(t.index(i))"
      ],
      "metadata": {
        "colab": {
          "base_uri": "https://localhost:8080/"
        },
        "id": "BXXRANwx5j8w",
        "outputId": "8e893388-8814-4a12-d35e-e1b7e7c6beff"
      },
      "execution_count": 23,
      "outputs": [
        {
          "output_type": "stream",
          "name": "stdout",
          "text": [
            "1\n"
          ]
        }
      ]
    },
    {
      "cell_type": "code",
      "source": [
        "#answer 22\n",
        "t=('apple','orange','banana')\n",
        "'banana' in t"
      ],
      "metadata": {
        "colab": {
          "base_uri": "https://localhost:8080/"
        },
        "id": "qbtpNGfT5xl_",
        "outputId": "c3980e4c-1800-4eb8-f7b1-e9bfbb7f2fca"
      },
      "execution_count": 24,
      "outputs": [
        {
          "output_type": "execute_result",
          "data": {
            "text/plain": [
              "True"
            ]
          },
          "metadata": {},
          "execution_count": 24
        }
      ]
    },
    {
      "cell_type": "code",
      "source": [
        "#answer 23\n",
        "s={1,2,3,4,5}\n",
        "print(s)"
      ],
      "metadata": {
        "colab": {
          "base_uri": "https://localhost:8080/"
        },
        "id": "Ha82x0OY55Zb",
        "outputId": "250919d5-2b41-4859-e1d6-224f7ee61a81"
      },
      "execution_count": 29,
      "outputs": [
        {
          "output_type": "stream",
          "name": "stdout",
          "text": [
            "{1, 2, 3, 4, 5}\n"
          ]
        }
      ]
    },
    {
      "cell_type": "code",
      "source": [
        "#answer 24\n",
        "s1={1,2,3,4}\n",
        "s1.add(6)\n",
        "s1"
      ],
      "metadata": {
        "colab": {
          "base_uri": "https://localhost:8080/"
        },
        "id": "lIbMzVPj5-v7",
        "outputId": "ae0b960c-9614-43d2-af23-da30c4d156bb"
      },
      "execution_count": 28,
      "outputs": [
        {
          "output_type": "execute_result",
          "data": {
            "text/plain": [
              "{1, 2, 3, 4, 6}"
            ]
          },
          "metadata": {},
          "execution_count": 28
        }
      ]
    },
    {
      "cell_type": "code",
      "source": [],
      "metadata": {
        "id": "U0zSchPa6D2m"
      },
      "execution_count": null,
      "outputs": []
    }
  ]
}